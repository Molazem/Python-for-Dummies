{
 "cells": [
  {
   "cell_type": "markdown",
   "metadata": {},
   "source": [
    "# Indentation in Python\n",
    "\n",
    "Indentation is very important in Python. It is used to define the level of nesting of code blocks. Unlike many other programming languages, Python uses indentation to define code blocks instead of braces `{}`."
   ]
  },
  {
   "cell_type": "markdown",
   "metadata": {},
   "source": [
    "# Variables & Data Types\n",
    "\n",
    "In programming, variables are used to store data that can be used and manipulated throughout the code. Each variable has a name and a value. The value can be of different data types, such as:\n",
    "\n",
    "- **Integer**: Whole numbers, e.g., 1, 2, 3\n",
    "- **Float**: Decimal numbers, e.g., 1.5, 2.75\n",
    "- **String**: Sequence of characters, e.g., \"Hello\", \"World\"\n",
    "- **Boolean**: True or False values\n",
    "- **List**: Ordered collection of items, e.g., [1, 2, 3]\n",
    "- **Dictionary**: Collection of key-value pairs, e.g., {\"name\": \"Alice\", \"age\": 25}\n",
    "\n",
    "Understanding variables and data types is fundamental to programming \n",
    "as they form the basis for data manipulation and logic implementation."
   ]
  },
  {
   "cell_type": "code",
   "execution_count": 1,
   "metadata": {},
   "outputs": [],
   "source": [
    "# Integer\n",
    "age = 30\n",
    "\n",
    "# Float\n",
    "height = 5.9\n",
    "\n",
    "# String\n",
    "name = \"Alice\"\n",
    "\n",
    "# Boolean\n",
    "is_student = True\n",
    "\n",
    "# List\n",
    "fruits = [\"apple\", \"banana\", \"cherry\"]\n",
    "\n",
    "# Dictionary\n",
    "person = {\"name\": \"Alice\", \"age\": 30, \"is_student\": True}"
   ]
  },
  {
   "cell_type": "markdown",
   "metadata": {},
   "source": [
    "# Print Function in Python\n",
    "\n",
    "The `print()` function in Python is used to output data to the standard output device (usually the screen). It can take multiple arguments, which are printed with a space in between by default.\n",
    "\n",
    "## Syntax\n",
    "\n",
    "```python\n",
    "print(*objects, sep=' ', end='\\n', file=sys.stdout, flush=False)\n",
    "```\n",
    "\n",
    "- `*objects`: Any number of objects to be printed.\n",
    "- `sep`: Separator between objects (default is a space).\n",
    "- `end`: String appended after the last object (default is a newline).\n",
    "- `file`: The file or file-like object to which the output is printed (default is `sys.stdout`).\n",
    "- `flush`: Whether to forcibly flush the stream (default is `False`).\n",
    "\n",
    "## Example\n"
   ]
  },
  {
   "cell_type": "code",
   "execution_count": null,
   "metadata": {},
   "outputs": [],
   "source": [
    "print(\"Hello\", \"World\", sep=\", \", end=\"!\\n\")\n",
    "# Output: Hello, World!"
   ]
  },
  {
   "cell_type": "markdown",
   "metadata": {},
   "source": [
    "# Escape Characters\n",
    "\n",
    "Escape characters are used to insert characters that are illegal in a string. An escape character is a backslash `\\` followed by the character you want to insert.\n",
    "\n",
    "## Common Escape Characters\n",
    "- `\\'`: Single quote\n",
    "- `\\\"`: Double quote\n",
    "- `\\\\`: Backslash\n",
    "- `\\n`: Newline\n",
    "- `\\t`: Tab\n",
    "- `\\r`: Carriage return\n",
    "- `\\b`: Backspace\n",
    "- `\\f`: Form feed\n",
    "- `\\ooo`: Octal value\n",
    "- `\\xhh`: Hex value\n",
    "\n",
    "## Example"
   ]
  },
  {
   "cell_type": "code",
   "execution_count": null,
   "metadata": {},
   "outputs": [],
   "source": [
    "print(\"Hello\\nWorld\")\n",
    "# Output:\n",
    "# Hello\n",
    "# World"
   ]
  },
  {
   "cell_type": "markdown",
   "metadata": {},
   "source": [
    "```markdown\n",
    "# `len()` Function and `in` Operator for Strings in Python\n",
    "\n",
    "## `len()` Function\n",
    "\n",
    "The `len()` function in Python is used to determine the length of an object. When used with strings, it returns the number of characters in the string.\n",
    "\n",
    "### Syntax\n",
    "```python\n",
    "len(object)\n",
    "```\n",
    "\n",
    "### Example\n",
    "\n",
    "\n",
    "In the example below, the `len()` function returns `13` because the string \"Hello, World!\" contains 13 characters, including spaces and punctuation.\n",
    "\n"
   ]
  },
  {
   "cell_type": "code",
   "execution_count": 2,
   "metadata": {},
   "outputs": [
    {
     "name": "stdout",
     "output_type": "stream",
     "text": [
      "13\n"
     ]
    }
   ],
   "source": [
    "string = \"Hello, World!\"\n",
    "length = len(string)\n",
    "print(length)  # Output: 13"
   ]
  },
  {
   "cell_type": "markdown",
   "metadata": {},
   "source": [
    "## `in` Operator\n",
    "\n",
    "The `in` operator is used to check if a substring exists within a string. It returns `True` if the substring is found, and `False` otherwise.\n",
    "\n",
    "### Syntax\n",
    "```python\n",
    "substring in string\n",
    "```\n",
    "\n",
    "### Example\n",
    "\n",
    "\n",
    "In the example above, the `in` operator checks if the substring \"World\" is present in the string \"Hello, World!\" and returns `True`. It also checks if the substring \"Python\" is present in the string and returns `False`.\n",
    "\n",
    "Using the `len()` function and `in` operator can be very useful for string manipulation and validation in Python.\n",
    "```"
   ]
  },
  {
   "cell_type": "code",
   "execution_count": 3,
   "metadata": {},
   "outputs": [
    {
     "name": "stdout",
     "output_type": "stream",
     "text": [
      "True\n",
      "False\n"
     ]
    }
   ],
   "source": [
    "string = \"Hello, World!\"\n",
    "result = \"World\" in string\n",
    "print(result)  # Output: True\n",
    "\n",
    "result = \"Python\" in string\n",
    "print(result)  # Output: False"
   ]
  },
  {
   "cell_type": "markdown",
   "metadata": {},
   "source": [
    "# String Slicing in Python\n",
    "\n",
    "String slicing is a technique used to extract a portion of a string by specifying a range of indices. This allows you to access and manipulate substrings within a larger string.\n",
    "\n",
    "## Syntax\n",
    "\n",
    "```python\n",
    "string[start:stop:step]\n",
    "```\n",
    "\n",
    "- `start`: The starting index of the slice (inclusive). If omitted, the default is `0`.\n",
    "- `stop`: The ending index of the slice (exclusive). If omitted, the default is the length of the string.\n",
    "- `step`: The step value determines the increment between each index for the slice. If omitted, the default is `1`.\n",
    "\n",
    "## Examples\n",
    "\n",
    "String slicing is a powerful feature in Python that allows for flexible and efficient manipulation of strings. By understanding and utilizing string slicing, you can perform a wide range of operations on strings with ease.\n"
   ]
  },
  {
   "cell_type": "code",
   "execution_count": 4,
   "metadata": {},
   "outputs": [
    {
     "name": "stdout",
     "output_type": "stream",
     "text": [
      "Hello\n",
      "Hello\n",
      "World!\n",
      "Hlo ol!\n",
      "World\n",
      "!dlroW ,olleH\n"
     ]
    }
   ],
   "source": [
    "\n",
    "### Basic Slicing\n",
    "\n",
    "string = \"Hello, World!\"\n",
    "substring = string[0:5]\n",
    "print(substring)  # Output: Hello\n",
    "\n",
    "### Omitting Start or Stop\n",
    "\n",
    "substring = string[:5]  # From the beginning to index 5 (exclusive)\n",
    "print(substring)  # Output: Hello\n",
    "\n",
    "substring = string[7:]  # From index 7 to the end\n",
    "print(substring)  # Output: World!\n",
    "\n",
    "### Using Step\n",
    "\n",
    "substring = string[::2]  # Every second character\n",
    "print(substring)  # Output: Hlo ol!\n",
    "\n",
    "### Negative Indices\n",
    "\n",
    "#Negative indices can be used to slice from the end of the string.\n",
    "\n",
    "substring = string[-6:-1]\n",
    "print(substring)  # Output: World\n",
    "\n",
    "### Reversing a String\n",
    "\n",
    "# You can reverse a string by using a negative step value.\n",
    "\n",
    "reversed_string = string[::-1]\n",
    "print(reversed_string)  # Output: !dlroW ,olleH\n"
   ]
  },
  {
   "cell_type": "markdown",
   "metadata": {},
   "source": [
    "# Practice\n",
    "This practice is from the pptx python 0\n",
    "## The Questions\n",
    "\n",
    "    1.Write a python program to calculate length of the string.\n",
    "\n",
    "    2.Write a python program to make a string from the first 4 characters from an input string.\n",
    "\n",
    "    3.Write a python program to check if the word “and” exists in a sentence or not.\n",
    "\n",
    "    4.Write a python program to reverse the word “I-Tech”.\n"
   ]
  },
  {
   "cell_type": "code",
   "execution_count": 5,
   "metadata": {},
   "outputs": [
    {
     "name": "stdout",
     "output_type": "stream",
     "text": [
      "19\n",
      "mola\n",
      "False\n",
      "HCET-I\n"
     ]
    }
   ],
   "source": [
    "# 1\n",
    "the_String = \"Mr, Molazem is here\"\n",
    "print(len(the_String))\n",
    "\n",
    "# 2\n",
    "another_String = input(\"Enter a string: \")\n",
    "print(another_String[:4])\n",
    "\n",
    "# 3\n",
    "print(\"and\" in another_String)\n",
    "\n",
    "#4 \n",
    "the_word = \"I-TECH\"\n",
    "print(the_word[::-1])"
   ]
  },
  {
   "cell_type": "markdown",
   "metadata": {},
   "source": [
    "# String Methods in Python\n",
    "\n",
    "Python provides a variety of built-in string methods that allow you to manipulate and analyze strings efficiently. Here are some commonly used string methods:\n",
    "\n",
    "## `upper()`\n",
    "\n",
    "The `upper()` method converts all lowercase letters in a string to uppercase.\n",
    "\n",
    "\n",
    "## `lower()`\n",
    "\n",
    "The `lower()` method converts all uppercase letters in a string to lowercase.\n",
    "\n",
    "\n",
    "## `split()`\n",
    "\n",
    "The `split()` method splits a string into a list of substrings based on a specified delimiter. If no delimiter is specified, it splits by whitespace.\n",
    "\n",
    "\n",
    "## `replace()`\n",
    "\n",
    "The `replace()` method replaces occurrences of a specified substring with another substring.\n",
    "\n",
    "\n",
    "## `strip()`\n",
    "\n",
    "The `strip()` method removes leading and trailing whitespace (or specified characters) from a string.\n",
    "\n",
    "\n",
    "## `title()`\n",
    "\n",
    "The `title()` method converts the first character of each word to uppercase and the remaining characters to lowercase.\n",
    "\n",
    "\n",
    "## `count()`\n",
    "\n",
    "The `count()` method returns the number of occurrences of a specified substring in a string.\n",
    "\n",
    "\n",
    "These string methods are very useful for various string manipulation tasks in Python. By understanding and utilizing these methods, you can perform a wide range of operations on strings with ease.\n"
   ]
  },
  {
   "cell_type": "code",
   "execution_count": 6,
   "metadata": {},
   "outputs": [
    {
     "name": "stdout",
     "output_type": "stream",
     "text": [
      "HELLO WORLD\n",
      "hello world\n",
      "['hello', 'world']\n",
      "hello Python\n",
      "hello world\n",
      "Hello World\n",
      "2\n"
     ]
    }
   ],
   "source": [
    "### Example Upper\n",
    "text = \"hello world\"\n",
    "print(text.upper())  # Output: HELLO WORLD\n",
    "\n",
    "### Example Lower\n",
    "text = \"HELLO WORLD\"\n",
    "print(text.lower())  # Output: hello world\n",
    "\n",
    "### Example Split\n",
    "text = \"hello world\"\n",
    "print(text.split())  # Output: ['hello', 'world']\n",
    "\n",
    "### Example Replace\n",
    "text = \"hello world\"\n",
    "print(text.replace(\"world\", \"Python\"))  # Output: hello Python\n",
    "\n",
    "### Example Strip\n",
    "text = \"  hello world  \"\n",
    "print(text.strip())  # Output: hello world\n",
    "\n",
    "### Example Title\n",
    "text = \"hello world\"\n",
    "print(text.title())  # Output: Hello World\n",
    "\n",
    "### Example Count\n",
    "text = \"hello world\"\n",
    "print(text.count(\"o\"))  # Output: 2\n"
   ]
  },
  {
   "cell_type": "markdown",
   "metadata": {},
   "source": [
    "# Practice \n",
    "this also from the python 0 pptx\n",
    "\n",
    "## The Questions\n",
    "    1.Write a python program to capitalize “i-tech”.\n",
    "\n",
    "    2.Write a python program to split “I-Tech” to “I” and “Tech”.\n",
    "\n",
    "    3.Write a python program to title your name. \n",
    "        example: name = “habiba muhammad” \n",
    "            output = “Habiba Muhammad” \n"
   ]
  },
  {
   "cell_type": "code",
   "execution_count": 7,
   "metadata": {},
   "outputs": [
    {
     "name": "stdout",
     "output_type": "stream",
     "text": [
      "I-TECH\n",
      "['i', 'tech']\n",
      "Abdallah Molazem\n"
     ]
    }
   ],
   "source": [
    "itech = \"i-tech\"\n",
    "# 1\n",
    "print(itech.upper())\n",
    "\n",
    "#2 \n",
    "print(itech.split(\"-\"))\n",
    "\n",
    "#3 \n",
    "name = \"abdallah molazem\"\n",
    "print(name.title())\n"
   ]
  },
  {
   "cell_type": "markdown",
   "metadata": {},
   "source": [
    "# String Concatenation and Formatting in Python\n",
    "\n",
    "## String Concatenation\n",
    "\n",
    "String concatenation is the process of joining two or more strings together. In Python, you can concatenate strings using the `+` operator or the `join()` method.\n",
    "\n",
    "### Using the `+` Operator\n",
    "\n",
    "The `+` operator can be used to concatenate two or more strings.\n",
    "\n",
    "\n",
    "\n",
    "### Using the `join()` Method\n",
    "\n",
    "The `join()` method is used to concatenate a list of strings into a single string.\n",
    "\n",
    "\n",
    "\n",
    "## String Formatting\n",
    "\n",
    "String formatting allows you to create strings with dynamic content. Python provides several ways to format strings, including the `%` operator, the `str.format()` method, and f-strings (formatted string literals).\n",
    "\n",
    "### Using the `%` Operator\n",
    "\n",
    "The `%` operator is used to format strings by embedding values within a string.\n",
    "\n",
    "\n",
    "\n",
    "### Using the `str.format()` Method\n",
    "\n",
    "The `str.format()` method allows you to format strings by placing placeholders within the string and providing values to replace them.\n",
    "\n",
    "\n",
    "\n",
    "### Using F-Strings (Formatted String Literals)\n",
    "\n",
    "F-strings, introduced in Python 3.6, provide a concise and readable way to format strings by embedding expressions within curly braces `{}`.\n",
    "\n",
    "x\n",
    "\n",
    "String concatenation and formatting are essential techniques for creating dynamic and readable strings in Python. By understanding and utilizing these methods, you can efficiently manipulate and display text in your programs."
   ]
  },
  {
   "cell_type": "code",
   "execution_count": 10,
   "metadata": {},
   "outputs": [
    {
     "name": "stdout",
     "output_type": "stream",
     "text": [
      "Hello World\n",
      "Hello World\n",
      "My name is Alice and I am 30 years old.\n",
      "My name is Alice and I am 30 years old.\n",
      "My name is Alice and I am 30 years old.\n"
     ]
    }
   ],
   "source": [
    "# The + operator\n",
    "str1 = \"Hello\"\n",
    "str2 = \"World\"\n",
    "result = str1 + \" \" + str2\n",
    "print(result)  # Output: Hello World\n",
    "\n",
    "# The join Function\n",
    "words = [\"Hello\", \"World\"]\n",
    "result = \" \".join(words)\n",
    "print(result)  # Output: Hello World\n",
    "\n",
    "# % Operator\n",
    "name = \"Alice\"\n",
    "age = 30\n",
    "result = \"My name is %s and I am %d years old.\" % (name, age)\n",
    "print(result)  # Output: My name is Alice and I am 30 years old.\n",
    "\n",
    "# format Method\n",
    "name = \"Alice\"\n",
    "age = 30\n",
    "result = \"My name is {} and I am {} years old.\".format(name, age)\n",
    "print(result)  # Output: My name is Alice and I am 30 years old.\n",
    "\n",
    "# f-Strings\n",
    "name = \"Alice\"\n",
    "age = 30\n",
    "result = f\"My name is {name} and I am {age} years old.\"\n",
    "print(result)  # Output: My name is Alice and I am 30 years old.\n"
   ]
  },
  {
   "cell_type": "markdown",
   "metadata": {},
   "source": [
    "# Practice\n",
    "this also from the python 0 pptx\n",
    "\n",
    "## Question\n",
    "    1.Write a python program to get character names and ages from the user and put in a story of 3 lines."
   ]
  },
  {
   "cell_type": "code",
   "execution_count": 11,
   "metadata": {},
   "outputs": [
    {
     "name": "stdout",
     "output_type": "stream",
     "text": [
      "Once upon a time, there was a person named Molazem.\n",
      "Molazem was 20 years old.\n",
      "They went on an adventure and had a lot of fun.\n"
     ]
    }
   ],
   "source": [
    "# Get character name and age from the user\n",
    "character_name = input(\"Enter the name of the character: \")\n",
    "character_age = input(\"Enter the age of the character: \")\n",
    "\n",
    "# Create a story using the input\n",
    "story = f\"Once upon a time, there was a person named {character_name}.\\n\"\n",
    "story += f\"{character_name} was {character_age} years old.\\n\"\n",
    "story += f\"He went on an adventure and had a lot of fun.\"\n",
    "\n",
    "# Print the story\n",
    "print(story)\n"
   ]
  },
  {
   "cell_type": "markdown",
   "metadata": {},
   "source": [
    "# Multi Variable assignment\n",
    "\n",
    "we can do assign more than one variable in the same line\n",
    "\n",
    "## Example"
   ]
  },
  {
   "cell_type": "code",
   "execution_count": 12,
   "metadata": {},
   "outputs": [
    {
     "name": "stdout",
     "output_type": "stream",
     "text": [
      "5 0 0.4\n"
     ]
    }
   ],
   "source": [
    "x, y, z = 5, 0, 0.4\n",
    "\n",
    "print(x, y, z)"
   ]
  },
  {
   "cell_type": "markdown",
   "metadata": {},
   "source": [
    "# Arithmetic Operations in Python\n",
    "\n",
    "Python supports various arithmetic operations that allow you to perform mathematical calculations. Here are the common arithmetic operations:\n",
    "\n",
    "## Addition (`+`)\n",
    "\n",
    "The addition operator adds two numbers together.\n",
    "\n",
    "## Subtraction (`-`)\n",
    "\n",
    "The subtraction operator subtracts one number from another.ubtraction operator subtracts one number from another.\n",
    "\n",
    "## Multiplication (`*`)\n",
    "The multiplication operator multiplies two numbers.perator multiplies two numbers.\n",
    "\n",
    "## Division (`/`)\n",
    "\n",
    "The division operator divides one number by another and returns a float.ion operator divides one number by another and returns a float.\n",
    "\n",
    "## Floor Division (`//`)\n",
    "\n",
    "The floor division operator divides one number by another and returns the largest integer less than or equal to the result. floor division operator divides one number by another and returns the largest integer less than or equal to the result.\n",
    "\n",
    "## Modulus (`%`)\n",
    "\n",
    "The modulus operator returns the remainder of the division of one number by another.ivision of one number by another.\n",
    "\n",
    "## Exponentiation (`**`)\n",
    "\n",
    "The exponentiation operator raises one number to the power of another.xponentiation operator raises one number to the power of another.\n",
    "\n",
    "These arithmetic operations are fundamental to performing mathematical calculations in Python. By understanding and utilizing these operators, you can efficiently perform a wide range of arithmetic tasks in your programs.se arithmetic operations are fundamental to performing mathematical calculations in Python. By understanding and utilizing these operators, you can efficiently perform a wide range of arithmetic tasks in your programs.\n"
   ]
  },
  {
   "cell_type": "code",
   "execution_count": 13,
   "metadata": {},
   "outputs": [
    {
     "name": "stdout",
     "output_type": "stream",
     "text": [
      "Addition: 10 + 5 = 15\n",
      "Subtraction: 10 - 5 = 5\n",
      "Multiplication: 10 * 5 = 50\n",
      "Division: 10 / 5 = 2.0\n",
      "Floor Division: 10 // 5 = 2\n",
      "Modulus: 10 % 5 = 0\n",
      "Exponentiation: 10 ** 5 = 100000\n"
     ]
    }
   ],
   "source": [
    "# Addition\n",
    "a = 10\n",
    "b = 5\n",
    "addition = a + b\n",
    "print(f\"Addition: {a} + {b} = {addition}\")\n",
    "\n",
    "# Subtraction\n",
    "subtraction = a - b\n",
    "print(f\"Subtraction: {a} - {b} = {subtraction}\")\n",
    "\n",
    "# Multiplication\n",
    "multiplication = a * b\n",
    "print(f\"Multiplication: {a} * {b} = {multiplication}\")\n",
    "\n",
    "# Division\n",
    "division = a / b\n",
    "print(f\"Division: {a} / {b} = {division}\")\n",
    "\n",
    "# Floor Division\n",
    "floor_division = a // b\n",
    "print(f\"Floor Division: {a} // {b} = {floor_division}\")\n",
    "\n",
    "# Modulus\n",
    "modulus = a % b\n",
    "print(f\"Modulus: {a} % {b} = {modulus}\")\n",
    "\n",
    "# Exponentiation\n",
    "exponentiation = a ** b\n",
    "print(f\"Exponentiation: {a} ** {b} = {exponentiation}\")"
   ]
  },
  {
   "cell_type": "markdown",
   "metadata": {},
   "source": [
    "# Warning\n",
    "if you're taking a number as an input and want to aplly operations on it you do apply a type conversion as a Float or an Integer by using either `int()` or `float()`"
   ]
  },
  {
   "cell_type": "markdown",
   "metadata": {},
   "source": [
    "# Practice\n",
    "this also from the python 0 pptx\n",
    "\n",
    "## Question\n",
    "    1.Write a python program to get 2 numbers from the user and perform all mathematical operations on these two numbers.\n"
   ]
  },
  {
   "cell_type": "code",
   "execution_count": 15,
   "metadata": {},
   "outputs": [
    {
     "name": "stdout",
     "output_type": "stream",
     "text": [
      "Addition: 10 + 5 = 15\n",
      "Subtraction: 10 - 5 = 5\n",
      "Multiplication: 10 * 5 = 50\n",
      "Division: 10 / 5 = 2.0\n",
      "Floor Division: 10 // 5 = 2\n",
      "Modulus: 10 % 5 = 0\n",
      "Exponentiation: 10 ** 5 = 100000\n"
     ]
    }
   ],
   "source": [
    "mohammed_ramadan = int(input(\"Enter the first number: \"))\n",
    "farouq_elfishawy = int(input(\"Enter the second number: \"))\n",
    "\n",
    "# Addition\n",
    "addition = mohammed_ramadan + farouq_elfishawy\n",
    "print(f\"Addition: {mohammed_ramadan} + {farouq_elfishawy} = {addition}\")\n",
    "\n",
    "# Subtraction\n",
    "subtraction = mohammed_ramadan - farouq_elfishawy\n",
    "print(f\"Subtraction: {mohammed_ramadan} - {farouq_elfishawy} = {subtraction}\")\n",
    "\n",
    "# Multiplication\n",
    "multiplication = mohammed_ramadan * farouq_elfishawy\n",
    "print(f\"Multiplication: {mohammed_ramadan} * {farouq_elfishawy} = {multiplication}\")\n",
    "\n",
    "# Division\n",
    "division = mohammed_ramadan / farouq_elfishawy\n",
    "print(f\"Division: {mohammed_ramadan} / {farouq_elfishawy} = {division}\")\n",
    "\n",
    "# Floor Division\n",
    "floor_division = mohammed_ramadan // farouq_elfishawy\n",
    "print(f\"Floor Division: {mohammed_ramadan} // {farouq_elfishawy} = {floor_division}\")\n",
    "\n",
    "# Modulus\n",
    "modulus = mohammed_ramadan % farouq_elfishawy\n",
    "print(f\"Modulus: {mohammed_ramadan} % {farouq_elfishawy} = {modulus}\")\n",
    "\n",
    "# Exponentiation\n",
    "exponentiation = mohammed_ramadan ** farouq_elfishawy\n",
    "print(f\"Exponentiation: {mohammed_ramadan} ** {farouq_elfishawy} = {exponentiation}\")\n"
   ]
  },
  {
   "cell_type": "markdown",
   "metadata": {},
   "source": [
    "# Working with Dates and Times in Python\n",
    "\n",
    "Python provides powerful libraries for working with dates and times. The `datetime` module supplies classes for manipulating dates and times. Here, we will discuss `datetime`, `timedelta`, and `strftime`.\n",
    "\n",
    "## `datetime` Module\n",
    "\n",
    "The `datetime` module provides classes for manipulating dates and times. The main classes are `date`, `time`, `datetime`, and `timedelta`.\n",
    "\n",
    "## `timedelta` Classta` Class\n",
    "\n",
    "The `timedelta` class represents the difference between two dates or times. It is useful for performing arithmetic operations on dates and times.delta` class represents the difference between two dates or times. It is useful for performing arithmetic operations on dates and times.\n",
    "\n",
    "## `strftime` Method## `strftime` Method\n",
    "\n",
    "The `strftime` method is used to format date and time objects into readable strings. It allows you to specify the format using format codes.d is used to format date and time objects into readable strings. It allows you to specify the format using format codes.\n",
    "\n",
    "### Common Format Codes### Common Format Codes\n",
    "\n",
    "- `%Y`: Year with century (e.g., 2023)\n",
    "- `%m`: Month as a zero-padded decimal number (e.g., 01, 02, ..., 12)e.g., 01, 02, ..., 12)\n",
    "- `%d`: Day of the month as a zero-padded decimal number (e.g., 01, 02, ..., 31)%d`: Day of the month as a zero-padded decimal number (e.g., 01, 02, ..., 31)\n",
    "- `%H`: Hour (24-hour clock) as a zero-padded decimal number (e.g., 00, 01, ..., 23)- `%H`: Hour (24-hour clock) as a zero-padded decimal number (e.g., 00, 01, ..., 23)\n",
    "- `%M`: Minute as a zero-padded decimal number (e.g., 00, 01, ..., 59)zero-padded decimal number (e.g., 00, 01, ..., 59)\n",
    "- `%S`: Second as a zero-padded decimal number (e.g., 00, 01, ..., 59)- `%S`: Second as a zero-padded decimal number (e.g., 00, 01, ..., 59)\n",
    "\n",
    "By understanding and utilizing the `datetime` module, `timedelta` class, and `strftime` method, you can efficiently work with dates and times in Python.By understanding and utilizing the `datetime` module, `timedelta` class, and `strftime` method, you can efficiently work with dates and times in Python.\n"
   ]
  },
  {
   "cell_type": "code",
   "execution_count": 16,
   "metadata": {},
   "outputs": [
    {
     "name": "stdout",
     "output_type": "stream",
     "text": [
      "Current date and time: 2025-02-15 16:10:59.836906\n",
      "Specific date and time: 2023-10-01 12:30:45\n",
      "Tomorrow: 2025-02-16 16:10:59.836906\n",
      "Next week: 2025-02-22 16:10:59.836906\n",
      "One hour later: 2025-02-15 17:10:59.836906\n",
      "Yesterday: 2025-02-14 16:10:59.836906\n",
      "Last week: 2025-02-08 16:10:59.836906\n",
      "One hour earlier: 2025-02-15 15:10:59.836906\n",
      "Formatted date and time: 2025-02-15 16:10:59\n",
      "Year: 2025\n",
      "Month: 02\n",
      "Day: 15\n",
      "Hour: 16\n",
      "Minute: 10\n",
      "Second: 59\n",
      "Parsed date and time: 2023-10-01 12:30:45\n"
     ]
    }
   ],
   "source": [
    "from datetime import datetime, timedelta\n",
    "\n",
    "# Current date and time\n",
    "now = datetime.now()\n",
    "print(\"Current date and time:\", now)\n",
    "\n",
    "# Create a specific date and time\n",
    "specific_date = datetime(2023, 10, 1, 12, 30, 45)\n",
    "print(\"Specific date and time:\", specific_date)\n",
    "\n",
    "# Date and time arithmetic using timedelta\n",
    "one_day = timedelta(days=1)\n",
    "one_week = timedelta(weeks=1)\n",
    "one_hour = timedelta(hours=1)\n",
    "\n",
    "# Adding timedelta to datetime\n",
    "tomorrow = now + one_day\n",
    "next_week = now + one_week\n",
    "one_hour_later = now + one_hour\n",
    "\n",
    "print(\"Tomorrow:\", tomorrow)\n",
    "print(\"Next week:\", next_week)\n",
    "print(\"One hour later:\", one_hour_later)\n",
    "\n",
    "# Subtracting timedelta from datetime\n",
    "yesterday = now - one_day\n",
    "last_week = now - one_week\n",
    "one_hour_earlier = now - one_hour\n",
    "\n",
    "print(\"Yesterday:\", yesterday)\n",
    "print(\"Last week:\", last_week)\n",
    "print(\"One hour earlier:\", one_hour_earlier)\n",
    "\n",
    "# Formatting datetime using strftime\n",
    "formatted_date = now.strftime(\"%Y-%m-%d %H:%M:%S\")\n",
    "print(\"Formatted date and time:\", formatted_date)\n",
    "\n",
    "# Common format codes\n",
    "print(\"Year:\", now.strftime(\"%Y\"))\n",
    "print(\"Month:\", now.strftime(\"%m\"))\n",
    "print(\"Day:\", now.strftime(\"%d\"))\n",
    "print(\"Hour:\", now.strftime(\"%H\"))\n",
    "print(\"Minute:\", now.strftime(\"%M\"))\n",
    "print(\"Second:\", now.strftime(\"%S\"))\n",
    "\n",
    "# Parsing a string to datetime using strptime\n",
    "date_string = \"2023-10-01 12:30:45\"\n",
    "parsed_date = datetime.strptime(date_string, \"%Y-%m-%d %H:%M:%S\")\n",
    "print(\"Parsed date and time:\", parsed_date)"
   ]
  },
  {
   "cell_type": "markdown",
   "metadata": {},
   "source": [
    "# Practice \n",
    "this also from Python 0 pptx \n",
    "## Questions \n",
    "    Write me a python code to get the name of the day 5 days from today display the date, time and the name of the day."
   ]
  },
  {
   "cell_type": "code",
   "execution_count": 17,
   "metadata": {},
   "outputs": [
    {
     "name": "stdout",
     "output_type": "stream",
     "text": [
      "Date and Time: 2025-02-20 16:10:59\n",
      "Day: Thursday\n"
     ]
    }
   ],
   "source": [
    "# Calculate the date 5 days from today\n",
    "five_days_from_today = now + timedelta(days=5)\n",
    "\n",
    "# Format the date and get the name of the day\n",
    "formatted_date = five_days_from_today.strftime(\"%Y-%m-%d %H:%M:%S\")\n",
    "day_name = five_days_from_today.strftime(\"%A\")\n",
    "\n",
    "# Display the date, time, and name of the day\n",
    "print(f\"Date and Time: {formatted_date}\")\n",
    "print(f\"Day: {day_name}\")"
   ]
  }
 ],
 "metadata": {
  "kernelspec": {
   "display_name": "Python 3",
   "language": "python",
   "name": "python3"
  },
  "language_info": {
   "codemirror_mode": {
    "name": "ipython",
    "version": 3
   },
   "file_extension": ".py",
   "mimetype": "text/x-python",
   "name": "python",
   "nbconvert_exporter": "python",
   "pygments_lexer": "ipython3",
   "version": "3.11.9"
  }
 },
 "nbformat": 4,
 "nbformat_minor": 2
}
