{
 "cells": [
  {
   "cell_type": "markdown",
   "metadata": {},
   "source": [
    "# Indentation in Python\n",
    "\n",
    "Indentation is very important in Python. It is used to define the level of nesting of code blocks. Unlike many other programming languages, Python uses indentation to define code blocks instead of braces `{}`."
   ]
  },
  {
   "cell_type": "markdown",
   "metadata": {},
   "source": [
    "# Variables & Data Types\n",
    "\n",
    "In programming, variables are used to store data that can be used and manipulated throughout the code. Each variable has a name and a value. The value can be of different data types, such as:\n",
    "\n",
    "- **Integer**: Whole numbers, e.g., 1, 2, 3\n",
    "- **Float**: Decimal numbers, e.g., 1.5, 2.75\n",
    "- **String**: Sequence of characters, e.g., \"Hello\", \"World\"\n",
    "- **Boolean**: True or False values\n",
    "- **List**: Ordered collection of items, e.g., [1, 2, 3]\n",
    "- **Dictionary**: Collection of key-value pairs, e.g., {\"name\": \"Alice\", \"age\": 25}\n",
    "\n",
    "Understanding variables and data types is fundamental to programming \n",
    "as they form the basis for data manipulation and logic implementation."
   ]
  },
  {
   "cell_type": "code",
   "execution_count": 1,
   "metadata": {},
   "outputs": [],
   "source": [
    "# Integer\n",
    "age = 30\n",
    "\n",
    "# Float\n",
    "height = 5.9\n",
    "\n",
    "# String\n",
    "name = \"Alice\"\n",
    "\n",
    "# Boolean\n",
    "is_student = True\n",
    "\n",
    "# List\n",
    "fruits = [\"apple\", \"banana\", \"cherry\"]\n",
    "\n",
    "# Dictionary\n",
    "person = {\"name\": \"Alice\", \"age\": 30, \"is_student\": True}"
   ]
  },
  {
   "cell_type": "markdown",
   "metadata": {},
   "source": [
    "# Print Function in Python\n",
    "\n",
    "The `print()` function in Python is used to output data to the standard output device (usually the screen). It can take multiple arguments, which are printed with a space in between by default.\n",
    "\n",
    "## Syntax\n",
    "\n",
    "```python\n",
    "print(*objects, sep=' ', end='\\n', file=sys.stdout, flush=False)\n",
    "```\n",
    "\n",
    "- `*objects`: Any number of objects to be printed.\n",
    "- `sep`: Separator between objects (default is a space).\n",
    "- `end`: String appended after the last object (default is a newline).\n",
    "- `file`: The file or file-like object to which the output is printed (default is `sys.stdout`).\n",
    "- `flush`: Whether to forcibly flush the stream (default is `False`).\n",
    "\n",
    "## Example\n"
   ]
  },
  {
   "cell_type": "code",
   "execution_count": null,
   "metadata": {},
   "outputs": [],
   "source": [
    "print(\"Hello\", \"World\", sep=\", \", end=\"!\\n\")\n",
    "# Output: Hello, World!"
   ]
  },
  {
   "cell_type": "markdown",
   "metadata": {},
   "source": [
    "# Escape Characters\n",
    "\n",
    "Escape characters are used to insert characters that are illegal in a string. An escape character is a backslash `\\` followed by the character you want to insert.\n",
    "\n",
    "## Common Escape Characters\n",
    "- `\\'`: Single quote\n",
    "- `\\\"`: Double quote\n",
    "- `\\\\`: Backslash\n",
    "- `\\n`: Newline\n",
    "- `\\t`: Tab\n",
    "- `\\r`: Carriage return\n",
    "- `\\b`: Backspace\n",
    "- `\\f`: Form feed\n",
    "- `\\ooo`: Octal value\n",
    "- `\\xhh`: Hex value\n",
    "\n",
    "## Example"
   ]
  },
  {
   "cell_type": "code",
   "execution_count": null,
   "metadata": {},
   "outputs": [],
   "source": [
    "print(\"Hello\\nWorld\")\n",
    "# Output:\n",
    "# Hello\n",
    "# World"
   ]
  },
  {
   "cell_type": "markdown",
   "metadata": {},
   "source": [
    "```markdown\n",
    "# `len()` Function and `in` Operator for Strings in Python\n",
    "\n",
    "## `len()` Function\n",
    "\n",
    "The `len()` function in Python is used to determine the length of an object. When used with strings, it returns the number of characters in the string.\n",
    "\n",
    "### Syntax\n",
    "```python\n",
    "len(object)\n",
    "```\n",
    "\n",
    "### Example\n",
    "\n",
    "\n",
    "In the example below, the `len()` function returns `13` because the string \"Hello, World!\" contains 13 characters, including spaces and punctuation.\n",
    "\n"
   ]
  },
  {
   "cell_type": "code",
   "execution_count": 2,
   "metadata": {},
   "outputs": [
    {
     "name": "stdout",
     "output_type": "stream",
     "text": [
      "13\n"
     ]
    }
   ],
   "source": [
    "string = \"Hello, World!\"\n",
    "length = len(string)\n",
    "print(length)  # Output: 13"
   ]
  },
  {
   "cell_type": "markdown",
   "metadata": {},
   "source": [
    "## `in` Operator\n",
    "\n",
    "The `in` operator is used to check if a substring exists within a string. It returns `True` if the substring is found, and `False` otherwise.\n",
    "\n",
    "### Syntax\n",
    "```python\n",
    "substring in string\n",
    "```\n",
    "\n",
    "### Example\n",
    "\n",
    "\n",
    "In the example above, the `in` operator checks if the substring \"World\" is present in the string \"Hello, World!\" and returns `True`. It also checks if the substring \"Python\" is present in the string and returns `False`.\n",
    "\n",
    "Using the `len()` function and `in` operator can be very useful for string manipulation and validation in Python.\n",
    "```"
   ]
  },
  {
   "cell_type": "code",
   "execution_count": 3,
   "metadata": {},
   "outputs": [
    {
     "name": "stdout",
     "output_type": "stream",
     "text": [
      "True\n",
      "False\n"
     ]
    }
   ],
   "source": [
    "string = \"Hello, World!\"\n",
    "result = \"World\" in string\n",
    "print(result)  # Output: True\n",
    "\n",
    "result = \"Python\" in string\n",
    "print(result)  # Output: False"
   ]
  },
  {
   "cell_type": "markdown",
   "metadata": {},
   "source": [
    "# String Slicing in Python\n",
    "\n",
    "String slicing is a technique used to extract a portion of a string by specifying a range of indices. This allows you to access and manipulate substrings within a larger string.\n",
    "\n",
    "## Syntax\n",
    "\n",
    "```python\n",
    "string[start:stop:step]\n",
    "```\n",
    "\n",
    "- `start`: The starting index of the slice (inclusive). If omitted, the default is `0`.\n",
    "- `stop`: The ending index of the slice (exclusive). If omitted, the default is the length of the string.\n",
    "- `step`: The step value determines the increment between each index for the slice. If omitted, the default is `1`.\n",
    "\n",
    "## Examples\n",
    "\n",
    "String slicing is a powerful feature in Python that allows for flexible and efficient manipulation of strings. By understanding and utilizing string slicing, you can perform a wide range of operations on strings with ease.\n"
   ]
  },
  {
   "cell_type": "code",
   "execution_count": 4,
   "metadata": {},
   "outputs": [
    {
     "name": "stdout",
     "output_type": "stream",
     "text": [
      "Hello\n",
      "Hello\n",
      "World!\n",
      "Hlo ol!\n",
      "World\n",
      "!dlroW ,olleH\n"
     ]
    }
   ],
   "source": [
    "\n",
    "### Basic Slicing\n",
    "\n",
    "string = \"Hello, World!\"\n",
    "substring = string[0:5]\n",
    "print(substring)  # Output: Hello\n",
    "\n",
    "### Omitting Start or Stop\n",
    "\n",
    "substring = string[:5]  # From the beginning to index 5 (exclusive)\n",
    "print(substring)  # Output: Hello\n",
    "\n",
    "substring = string[7:]  # From index 7 to the end\n",
    "print(substring)  # Output: World!\n",
    "\n",
    "### Using Step\n",
    "\n",
    "substring = string[::2]  # Every second character\n",
    "print(substring)  # Output: Hlo ol!\n",
    "\n",
    "### Negative Indices\n",
    "\n",
    "#Negative indices can be used to slice from the end of the string.\n",
    "\n",
    "substring = string[-6:-1]\n",
    "print(substring)  # Output: World\n",
    "\n",
    "### Reversing a String\n",
    "\n",
    "# You can reverse a string by using a negative step value.\n",
    "\n",
    "reversed_string = string[::-1]\n",
    "print(reversed_string)  # Output: !dlroW ,olleH\n"
   ]
  },
  {
   "cell_type": "markdown",
   "metadata": {},
   "source": [
    "# Practice\n",
    "This practice is from the pptx python 0\n",
    "## The Questions\n",
    "\n",
    "    1.Write a python program to calculate length of the string.\n",
    "\n",
    "    2.Write a python program to make a string from the first 4 characters from an input string.\n",
    "\n",
    "    3.Write a python program to check if the word “and” exists in a sentence or not.\n",
    "\n",
    "    4.Write a python program to reverse the word “I-Tech”.\n"
   ]
  },
  {
   "cell_type": "code",
   "execution_count": 5,
   "metadata": {},
   "outputs": [
    {
     "name": "stdout",
     "output_type": "stream",
     "text": [
      "19\n",
      "mola\n",
      "False\n",
      "HCET-I\n"
     ]
    }
   ],
   "source": [
    "# 1\n",
    "the_String = \"Mr, Molazem is here\"\n",
    "print(len(the_String))\n",
    "\n",
    "# 2\n",
    "another_String = input(\"Enter a string: \")\n",
    "print(another_String[:4])\n",
    "\n",
    "# 3\n",
    "print(\"and\" in another_String)\n",
    "\n",
    "#4 \n",
    "the_word = \"I-TECH\"\n",
    "print(the_word[::-1])"
   ]
  },
  {
   "cell_type": "markdown",
   "metadata": {},
   "source": [
    "# String Methods in Python\n",
    "\n",
    "Python provides a variety of built-in string methods that allow you to manipulate and analyze strings efficiently. Here are some commonly used string methods:\n",
    "\n",
    "## `upper()`\n",
    "\n",
    "The `upper()` method converts all lowercase letters in a string to uppercase.\n",
    "\n",
    "\n",
    "## `lower()`\n",
    "\n",
    "The `lower()` method converts all uppercase letters in a string to lowercase.\n",
    "\n",
    "\n",
    "## `split()`\n",
    "\n",
    "The `split()` method splits a string into a list of substrings based on a specified delimiter. If no delimiter is specified, it splits by whitespace.\n",
    "\n",
    "\n",
    "## `replace()`\n",
    "\n",
    "The `replace()` method replaces occurrences of a specified substring with another substring.\n",
    "\n",
    "\n",
    "## `strip()`\n",
    "\n",
    "The `strip()` method removes leading and trailing whitespace (or specified characters) from a string.\n",
    "\n",
    "\n",
    "## `title()`\n",
    "\n",
    "The `title()` method converts the first character of each word to uppercase and the remaining characters to lowercase.\n",
    "\n",
    "\n",
    "## `count()`\n",
    "\n",
    "The `count()` method returns the number of occurrences of a specified substring in a string.\n",
    "\n",
    "\n",
    "These string methods are very useful for various string manipulation tasks in Python. By understanding and utilizing these methods, you can perform a wide range of operations on strings with ease.\n"
   ]
  },
  {
   "cell_type": "code",
   "execution_count": 6,
   "metadata": {},
   "outputs": [
    {
     "name": "stdout",
     "output_type": "stream",
     "text": [
      "HELLO WORLD\n",
      "hello world\n",
      "['hello', 'world']\n",
      "hello Python\n",
      "hello world\n",
      "Hello World\n",
      "2\n"
     ]
    }
   ],
   "source": [
    "### Example Upper\n",
    "text = \"hello world\"\n",
    "print(text.upper())  # Output: HELLO WORLD\n",
    "\n",
    "### Example Lower\n",
    "text = \"HELLO WORLD\"\n",
    "print(text.lower())  # Output: hello world\n",
    "\n",
    "### Example Split\n",
    "text = \"hello world\"\n",
    "print(text.split())  # Output: ['hello', 'world']\n",
    "\n",
    "### Example Replace\n",
    "text = \"hello world\"\n",
    "print(text.replace(\"world\", \"Python\"))  # Output: hello Python\n",
    "\n",
    "### Example Strip\n",
    "text = \"  hello world  \"\n",
    "print(text.strip())  # Output: hello world\n",
    "\n",
    "### Example Title\n",
    "text = \"hello world\"\n",
    "print(text.title())  # Output: Hello World\n",
    "\n",
    "### Example Count\n",
    "text = \"hello world\"\n",
    "print(text.count(\"o\"))  # Output: 2\n"
   ]
  },
  {
   "cell_type": "markdown",
   "metadata": {},
   "source": [
    "# Practice \n",
    "this also from the python 0 pptx\n",
    "\n",
    "## The Questions\n",
    "    1.Write a python program to capitalize “i-tech”.\n",
    "\n",
    "    2.Write a python program to split “I-Tech” to “I” and “Tech”.\n",
    "\n",
    "    3.Write a python program to title your name. \n",
    "        example: name = “habiba muhammad” \n",
    "            output = “Habiba Muhammad” \n"
   ]
  },
  {
   "cell_type": "code",
   "execution_count": 7,
   "metadata": {},
   "outputs": [
    {
     "name": "stdout",
     "output_type": "stream",
     "text": [
      "I-TECH\n",
      "['i', 'tech']\n",
      "Abdallah Molazem\n"
     ]
    }
   ],
   "source": [
    "itech = \"i-tech\"\n",
    "# 1\n",
    "print(itech.upper())\n",
    "\n",
    "#2 \n",
    "print(itech.split(\"-\"))\n",
    "\n",
    "#3 \n",
    "name = \"abdallah molazem\"\n",
    "print(name.title())\n"
   ]
  }
 ],
 "metadata": {
  "kernelspec": {
   "display_name": "Python 3",
   "language": "python",
   "name": "python3"
  },
  "language_info": {
   "codemirror_mode": {
    "name": "ipython",
    "version": 3
   },
   "file_extension": ".py",
   "mimetype": "text/x-python",
   "name": "python",
   "nbconvert_exporter": "python",
   "pygments_lexer": "ipython3",
   "version": "3.11.9"
  }
 },
 "nbformat": 4,
 "nbformat_minor": 2
}
