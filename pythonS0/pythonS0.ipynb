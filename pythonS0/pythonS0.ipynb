{
 "cells": [
  {
   "cell_type": "markdown",
   "metadata": {},
   "source": [
    "# Indentation in Python\n",
    "\n",
    "Indentation is very important in Python. It is used to define the level of nesting of code blocks. Unlike many other programming languages, Python uses indentation to define code blocks instead of braces `{}`."
   ]
  },
  {
   "cell_type": "markdown",
   "metadata": {},
   "source": [
    "# Variables & Data Types\n",
    "\n",
    "In programming, variables are used to store data that can be used and manipulated throughout the code. Each variable has a name and a value. The value can be of different data types, such as:\n",
    "\n",
    "- **Integer**: Whole numbers, e.g., 1, 2, 3\n",
    "- **Float**: Decimal numbers, e.g., 1.5, 2.75\n",
    "- **String**: Sequence of characters, e.g., \"Hello\", \"World\"\n",
    "- **Boolean**: True or False values\n",
    "- **List**: Ordered collection of items, e.g., [1, 2, 3]\n",
    "- **Dictionary**: Collection of key-value pairs, e.g., {\"name\": \"Alice\", \"age\": 25}\n",
    "\n",
    "Understanding variables and data types is fundamental to programming \n",
    "as they form the basis for data manipulation and logic implementation."
   ]
  },
  {
   "cell_type": "code",
   "execution_count": 1,
   "metadata": {},
   "outputs": [],
   "source": [
    "# Integer\n",
    "age = 30\n",
    "\n",
    "# Float\n",
    "height = 5.9\n",
    "\n",
    "# String\n",
    "name = \"Alice\"\n",
    "\n",
    "# Boolean\n",
    "is_student = True\n",
    "\n",
    "# List\n",
    "fruits = [\"apple\", \"banana\", \"cherry\"]\n",
    "\n",
    "# Dictionary\n",
    "person = {\"name\": \"Alice\", \"age\": 30, \"is_student\": True}"
   ]
  },
  {
   "cell_type": "markdown",
   "metadata": {},
   "source": [
    "# Print Function in Python\n",
    "\n",
    "The `print()` function in Python is used to output data to the standard output device (usually the screen). It can take multiple arguments, which are printed with a space in between by default.\n",
    "\n",
    "## Syntax\n",
    "\n",
    "```python\n",
    "print(*objects, sep=' ', end='\\n', file=sys.stdout, flush=False)\n",
    "```\n",
    "\n",
    "- `*objects`: Any number of objects to be printed.\n",
    "- `sep`: Separator between objects (default is a space).\n",
    "- `end`: String appended after the last object (default is a newline).\n",
    "- `file`: The file or file-like object to which the output is printed (default is `sys.stdout`).\n",
    "- `flush`: Whether to forcibly flush the stream (default is `False`).\n",
    "\n",
    "## Example\n"
   ]
  },
  {
   "cell_type": "code",
   "execution_count": null,
   "metadata": {},
   "outputs": [],
   "source": [
    "print(\"Hello\", \"World\", sep=\", \", end=\"!\\n\")\n",
    "# Output: Hello, World!"
   ]
  },
  {
   "cell_type": "markdown",
   "metadata": {},
   "source": [
    "# Multi Variable assignment\n",
    "\n",
    "we can do assign more than one variable in the same line\n",
    "\n",
    "## Example"
   ]
  },
  {
   "cell_type": "code",
   "execution_count": 12,
   "metadata": {},
   "outputs": [
    {
     "name": "stdout",
     "output_type": "stream",
     "text": [
      "5 0 0.4\n"
     ]
    }
   ],
   "source": [
    "x, y, z = 5, 0, 0.4\n",
    "\n",
    "print(x, y, z)"
   ]
  },
  {
   "cell_type": "markdown",
   "metadata": {},
   "source": [
    "# Arithmetic Operations in Python\n",
    "\n",
    "Python supports various arithmetic operations that allow you to perform mathematical calculations. Here are the common arithmetic operations:\n",
    "\n",
    "## Addition (`+`)\n",
    "\n",
    "The addition operator adds two numbers together.\n",
    "\n",
    "## Subtraction (`-`)\n",
    "\n",
    "The subtraction operator subtracts one number from another.ubtraction operator subtracts one number from another.\n",
    "\n",
    "## Multiplication (`*`)\n",
    "The multiplication operator multiplies two numbers.perator multiplies two numbers.\n",
    "\n",
    "## Division (`/`)\n",
    "\n",
    "The division operator divides one number by another and returns a float.ion operator divides one number by another and returns a float.\n",
    "\n",
    "## Floor Division (`//`)\n",
    "\n",
    "The floor division operator divides one number by another and returns the largest integer less than or equal to the result. floor division operator divides one number by another and returns the largest integer less than or equal to the result.\n",
    "\n",
    "## Modulus (`%`)\n",
    "\n",
    "The modulus operator returns the remainder of the division of one number by another.ivision of one number by another.\n",
    "\n",
    "## Exponentiation (`**`)\n",
    "\n",
    "The exponentiation operator raises one number to the power of another.xponentiation operator raises one number to the power of another.\n",
    "\n",
    "These arithmetic operations are fundamental to performing mathematical calculations in Python. By understanding and utilizing these operators, you can efficiently perform a wide range of arithmetic tasks in your programs.se arithmetic operations are fundamental to performing mathematical calculations in Python. By understanding and utilizing these operators, you can efficiently perform a wide range of arithmetic tasks in your programs.\n"
   ]
  },
  {
   "cell_type": "code",
   "execution_count": 13,
   "metadata": {},
   "outputs": [
    {
     "name": "stdout",
     "output_type": "stream",
     "text": [
      "Addition: 10 + 5 = 15\n",
      "Subtraction: 10 - 5 = 5\n",
      "Multiplication: 10 * 5 = 50\n",
      "Division: 10 / 5 = 2.0\n",
      "Floor Division: 10 // 5 = 2\n",
      "Modulus: 10 % 5 = 0\n",
      "Exponentiation: 10 ** 5 = 100000\n"
     ]
    }
   ],
   "source": [
    "# Addition\n",
    "a = 10\n",
    "b = 5\n",
    "addition = a + b\n",
    "print(f\"Addition: {a} + {b} = {addition}\")\n",
    "\n",
    "# Subtraction\n",
    "subtraction = a - b\n",
    "print(f\"Subtraction: {a} - {b} = {subtraction}\")\n",
    "\n",
    "# Multiplication\n",
    "multiplication = a * b\n",
    "print(f\"Multiplication: {a} * {b} = {multiplication}\")\n",
    "\n",
    "# Division\n",
    "division = a / b\n",
    "print(f\"Division: {a} / {b} = {division}\")\n",
    "\n",
    "# Floor Division\n",
    "floor_division = a // b\n",
    "print(f\"Floor Division: {a} // {b} = {floor_division}\")\n",
    "\n",
    "# Modulus\n",
    "modulus = a % b\n",
    "print(f\"Modulus: {a} % {b} = {modulus}\")\n",
    "\n",
    "# Exponentiation\n",
    "exponentiation = a ** b\n",
    "print(f\"Exponentiation: {a} ** {b} = {exponentiation}\")"
   ]
  },
  {
   "cell_type": "markdown",
   "metadata": {},
   "source": [
    "# Warning\n",
    "if you're taking a number as an input and want to aplly operations on it you do apply a type conversion as a Float or an Integer by using either `int()` or `float()`"
   ]
  },
  {
   "cell_type": "markdown",
   "metadata": {},
   "source": [
    "# Practice\n",
    "this also from the python 0 pptx\n",
    "\n",
    "## Question\n",
    "    1.Write a python program to get 2 numbers from the user and perform all mathematical operations on these two numbers.\n"
   ]
  },
  {
   "cell_type": "code",
   "execution_count": 15,
   "metadata": {},
   "outputs": [
    {
     "name": "stdout",
     "output_type": "stream",
     "text": [
      "Addition: 10 + 5 = 15\n",
      "Subtraction: 10 - 5 = 5\n",
      "Multiplication: 10 * 5 = 50\n",
      "Division: 10 / 5 = 2.0\n",
      "Floor Division: 10 // 5 = 2\n",
      "Modulus: 10 % 5 = 0\n",
      "Exponentiation: 10 ** 5 = 100000\n"
     ]
    }
   ],
   "source": [
    "mohammed_ramadan = int(input(\"Enter the first number: \"))\n",
    "farouq_elfishawy = int(input(\"Enter the second number: \"))\n",
    "\n",
    "# Addition\n",
    "addition = mohammed_ramadan + farouq_elfishawy\n",
    "print(f\"Addition: {mohammed_ramadan} + {farouq_elfishawy} = {addition}\")\n",
    "\n",
    "# Subtraction\n",
    "subtraction = mohammed_ramadan - farouq_elfishawy\n",
    "print(f\"Subtraction: {mohammed_ramadan} - {farouq_elfishawy} = {subtraction}\")\n",
    "\n",
    "# Multiplication\n",
    "multiplication = mohammed_ramadan * farouq_elfishawy\n",
    "print(f\"Multiplication: {mohammed_ramadan} * {farouq_elfishawy} = {multiplication}\")\n",
    "\n",
    "# Division\n",
    "division = mohammed_ramadan / farouq_elfishawy\n",
    "print(f\"Division: {mohammed_ramadan} / {farouq_elfishawy} = {division}\")\n",
    "\n",
    "# Floor Division\n",
    "floor_division = mohammed_ramadan // farouq_elfishawy\n",
    "print(f\"Floor Division: {mohammed_ramadan} // {farouq_elfishawy} = {floor_division}\")\n",
    "\n",
    "# Modulus\n",
    "modulus = mohammed_ramadan % farouq_elfishawy\n",
    "print(f\"Modulus: {mohammed_ramadan} % {farouq_elfishawy} = {modulus}\")\n",
    "\n",
    "# Exponentiation\n",
    "exponentiation = mohammed_ramadan ** farouq_elfishawy\n",
    "print(f\"Exponentiation: {mohammed_ramadan} ** {farouq_elfishawy} = {exponentiation}\")\n"
   ]
  }
 ],
 "metadata": {
  "kernelspec": {
   "display_name": "Python 3",
   "language": "python",
   "name": "python3"
  },
  "language_info": {
   "codemirror_mode": {
    "name": "ipython",
    "version": 3
   },
   "file_extension": ".py",
   "mimetype": "text/x-python",
   "name": "python",
   "nbconvert_exporter": "python",
   "pygments_lexer": "ipython3",
   "version": "3.11.9"
  }
 },
 "nbformat": 4,
 "nbformat_minor": 2
}
