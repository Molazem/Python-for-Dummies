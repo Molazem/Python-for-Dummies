{
 "cells": [
  {
   "cell_type": "markdown",
   "id": "f9d92203",
   "metadata": {},
   "source": [
    "# Escape Characters\n",
    "\n",
    "Escape characters are used to insert characters that are illegal in a string. An escape character is a backslash `\\` followed by the character you want to insert.\n",
    "\n",
    "## Common Escape Characters\n",
    "- `\\'`: Single quote\n",
    "- `\\\"`: Double quote\n",
    "- `\\\\`: Backslash\n",
    "- `\\n`: Newline\n",
    "- `\\t`: Tab\n",
    "- `\\r`: Carriage return\n",
    "- `\\b`: Backspace\n",
    "- `\\f`: Form feed\n",
    "- `\\ooo`: Octal value\n",
    "- `\\xhh`: Hex value\n",
    "\n",
    "## Example"
   ]
  },
  {
   "cell_type": "code",
   "execution_count": 1,
   "id": "a4f3ce38",
   "metadata": {},
   "outputs": [
    {
     "name": "stdout",
     "output_type": "stream",
     "text": [
      "Hello\n",
      "World\n"
     ]
    }
   ],
   "source": [
    "print(\"Hello\\nWorld\")\n",
    "# Output:\n",
    "# Hello\n",
    "# World"
   ]
  },
  {
   "cell_type": "markdown",
   "id": "ea66db16",
   "metadata": {},
   "source": [
    "```markdown\n",
    "# `len()` Function and `in` Operator for Strings in Python\n",
    "\n",
    "## `len()` Function\n",
    "\n",
    "The `len()` function in Python is used to determine the length of an object. When used with strings, it returns the number of characters in the string.\n",
    "\n",
    "### Syntax\n",
    "```python\n",
    "len(object)\n",
    "```\n",
    "\n",
    "### Example\n",
    "\n",
    "\n",
    "In the example below, the `len()` function returns `13` because the string \"Hello, World!\" contains 13 characters, including spaces and punctuation.\n"
   ]
  },
  {
   "cell_type": "code",
   "execution_count": 2,
   "id": "be8c2b4e",
   "metadata": {},
   "outputs": [
    {
     "name": "stdout",
     "output_type": "stream",
     "text": [
      "13\n"
     ]
    }
   ],
   "source": [
    "string = \"Hello, World!\"\n",
    "length = len(string)\n",
    "print(length)  # Output: 13"
   ]
  },
  {
   "cell_type": "markdown",
   "id": "3b5667ec",
   "metadata": {},
   "source": [
    "## `in` Operator\n",
    "\n",
    "The `in` operator is used to check if a substring exists within a string. It returns `True` if the substring is found, and `False` otherwise.\n",
    "\n",
    "### Syntax\n",
    "```python\n",
    "substring in string\n",
    "```\n",
    "\n",
    "### Example\n",
    "\n",
    "\n",
    "In the example above, the `in` operator checks if the substring \"World\" is present in the string \"Hello, World!\" and returns `True`. It also checks if the substring \"Python\" is present in the string and returns `False`.\n",
    "\n",
    "Using the `len()` function and `in` operator can be very useful for string manipulation and validation in Python.\n",
    "```"
   ]
  },
  {
   "cell_type": "code",
   "execution_count": 3,
   "id": "8b59dcd3",
   "metadata": {},
   "outputs": [
    {
     "name": "stdout",
     "output_type": "stream",
     "text": [
      "True\n",
      "False\n"
     ]
    }
   ],
   "source": [
    "string = \"Hello, World!\"\n",
    "result = \"World\" in string\n",
    "print(result)  # Output: True\n",
    "\n",
    "result = \"Python\" in string\n",
    "print(result)  # Output: False"
   ]
  },
  {
   "cell_type": "markdown",
   "id": "e2211c2c",
   "metadata": {},
   "source": [
    "# String Slicing in Python\n",
    "\n",
    "String slicing is a technique used to extract a portion of a string by specifying a range of indices. This allows you to access and manipulate substrings within a larger string.\n",
    "\n",
    "## Syntax\n",
    "\n",
    "```python\n",
    "string[start:stop:step]\n",
    "```\n",
    "\n",
    "- `start`: The starting index of the slice (inclusive). If omitted, the default is `0`.\n",
    "- `stop`: The ending index of the slice (exclusive). If omitted, the default is the length of the string.\n",
    "- `step`: The step value determines the increment between each index for the slice. If omitted, the default is `1`.\n",
    "\n",
    "## Examples\n",
    "\n",
    "String slicing is a powerful feature in Python that allows for flexible and efficient manipulation of strings. By understanding and utilizing string slicing, you can perform a wide range of operations on strings with ease.\n"
   ]
  },
  {
   "cell_type": "code",
   "execution_count": 4,
   "id": "807ad93b",
   "metadata": {},
   "outputs": [
    {
     "name": "stdout",
     "output_type": "stream",
     "text": [
      "Hello\n",
      "Hello\n",
      "World!\n",
      "Hlo ol!\n",
      "World\n",
      "!dlroW ,olleH\n"
     ]
    }
   ],
   "source": [
    "\n",
    "### Basic Slicing\n",
    "\n",
    "string = \"Hello, World!\"\n",
    "substring = string[0:5]\n",
    "print(substring)  # Output: Hello\n",
    "\n",
    "### Omitting Start or Stop\n",
    "\n",
    "substring = string[:5]  # From the beginning to index 5 (exclusive)\n",
    "print(substring)  # Output: Hello\n",
    "\n",
    "substring = string[7:]  # From index 7 to the end\n",
    "print(substring)  # Output: World!\n",
    "\n",
    "### Using Step\n",
    "\n",
    "substring = string[::2]  # Every second character\n",
    "print(substring)  # Output: Hlo ol!\n",
    "\n",
    "### Negative Indices\n",
    "\n",
    "#Negative indices can be used to slice from the end of the string.\n",
    "\n",
    "substring = string[-6:-1]\n",
    "print(substring)  # Output: World\n",
    "\n",
    "### Reversing a String\n",
    "\n",
    "# You can reverse a string by using a negative step value.\n",
    "\n",
    "reversed_string = string[::-1]\n",
    "print(reversed_string)  # Output: !dlroW ,olleH\n"
   ]
  },
  {
   "cell_type": "markdown",
   "id": "ee26e332",
   "metadata": {},
   "source": [
    "# Practice\n",
    "This practice is from the pptx python 0\n",
    "## The Questions\n",
    "\n",
    "    1.Write a python program to calculate length of the string.\n",
    "\n",
    "    2.Write a python program to make a string from the first 4 characters from an input string.\n",
    "\n",
    "    3.Write a python program to check if the word “and” exists in a sentence or not.\n",
    "\n",
    "    4.Write a python program to reverse the word “I-Tech”.\n"
   ]
  },
  {
   "cell_type": "code",
   "execution_count": 1,
   "id": "4527d15f",
   "metadata": {},
   "outputs": [
    {
     "name": "stdout",
     "output_type": "stream",
     "text": [
      "19\n",
      "\n",
      "False\n",
      "HCET-I\n"
     ]
    }
   ],
   "source": [
    "# 1\n",
    "the_String = \"Mr, Molazem is here\"\n",
    "print(len(the_String))\n",
    "\n",
    "# 2\n",
    "another_String = input(\"Enter a string: \")\n",
    "print(another_String[:4])\n",
    "\n",
    "# 3\n",
    "print(\"and\" in another_String)\n",
    "\n",
    "#4 \n",
    "the_word = \"I-TECH\"\n",
    "print(the_word[::-1])"
   ]
  },
  {
   "cell_type": "markdown",
   "id": "6c3d742a",
   "metadata": {},
   "source": [
    "# String Methods in Python\n",
    "\n",
    "Python provides a variety of built-in string methods that allow you to manipulate and analyze strings efficiently. Here are some commonly used string methods:\n",
    "\n",
    "## `upper()`\n",
    "\n",
    "The `upper()` method converts all lowercase letters in a string to uppercase.\n",
    "\n",
    "\n",
    "## `lower()`\n",
    "\n",
    "The `lower()` method converts all uppercase letters in a string to lowercase.\n",
    "\n",
    "\n",
    "## `split()`\n",
    "\n",
    "The `split()` method splits a string into a list of substrings based on a specified delimiter. If no delimiter is specified, it splits by whitespace.\n",
    "\n",
    "\n",
    "## `replace()`\n",
    "\n",
    "The `replace()` method replaces occurrences of a specified substring with another substring.\n",
    "\n",
    "\n",
    "## `strip()`\n",
    "\n",
    "The `strip()` method removes leading and trailing whitespace (or specified characters) from a string.\n",
    "\n",
    "\n",
    "## `title()`\n",
    "\n",
    "The `title()` method converts the first character of each word to uppercase and the remaining characters to lowercase.\n",
    "\n",
    "\n",
    "## `count()`\n",
    "\n",
    "The `count()` method returns the number of occurrences of a specified substring in a string.\n",
    "\n",
    "\n",
    "These string methods are very useful for various string manipulation tasks in Python. By understanding and utilizing these methods, you can perform a wide range of operations on strings with ease.\n"
   ]
  },
  {
   "cell_type": "code",
   "execution_count": 2,
   "id": "3f48b002",
   "metadata": {},
   "outputs": [
    {
     "name": "stdout",
     "output_type": "stream",
     "text": [
      "HELLO WORLD\n",
      "hello world\n",
      "['hello', 'world']\n",
      "hello Python\n",
      "hello world\n",
      "Hello World\n",
      "2\n"
     ]
    }
   ],
   "source": [
    "### Example Upper\n",
    "text = \"hello world\"\n",
    "print(text.upper())  # Output: HELLO WORLD\n",
    "\n",
    "### Example Lower\n",
    "text = \"HELLO WORLD\"\n",
    "print(text.lower())  # Output: hello world\n",
    "\n",
    "### Example Split\n",
    "text = \"hello world\"\n",
    "print(text.split())  # Output: ['hello', 'world']\n",
    "\n",
    "### Example Replace\n",
    "text = \"hello world\"\n",
    "print(text.replace(\"world\", \"Python\"))  # Output: hello Python\n",
    "\n",
    "### Example Strip\n",
    "text = \"  hello world  \"\n",
    "print(text.strip())  # Output: hello world\n",
    "\n",
    "### Example Title\n",
    "text = \"hello world\"\n",
    "print(text.title())  # Output: Hello World\n",
    "\n",
    "### Example Count\n",
    "text = \"hello world\"\n",
    "print(text.count(\"o\"))  # Output: 2\n"
   ]
  },
  {
   "cell_type": "markdown",
   "id": "73bd0580",
   "metadata": {},
   "source": [
    " # Practice \n",
    "this also from the python 0 pptx\n",
    "\n",
    "## The Questions\n",
    "    1.Write a python program to capitalize “i-tech”.\n",
    "\n",
    "    2.Write a python program to split “I-Tech” to “I” and “Tech”.\n",
    "\n",
    "    3.Write a python program to title your name. \n",
    "        example: name = “habiba muhammad” \n",
    "            output = “Habiba Muhammad” \n"
   ]
  },
  {
   "cell_type": "code",
   "execution_count": 3,
   "id": "0c286af0",
   "metadata": {},
   "outputs": [
    {
     "name": "stdout",
     "output_type": "stream",
     "text": [
      "I-TECH\n",
      "['i', 'tech']\n",
      "Abdallah Molazem\n"
     ]
    }
   ],
   "source": [
    "itech = \"i-tech\"\n",
    "# 1\n",
    "print(itech.upper())\n",
    "\n",
    "#2 \n",
    "print(itech.split(\"-\"))\n",
    "\n",
    "#3 \n",
    "name = \"abdallah molazem\"\n",
    "print(name.title())\n"
   ]
  },
  {
   "cell_type": "markdown",
   "id": "1581e420",
   "metadata": {},
   "source": [
    "# String Concatenation and Formatting in Python\n",
    "\n",
    "## String Concatenation\n",
    "\n",
    "String concatenation is the process of joining two or more strings together. In Python, you can concatenate strings using the `+` operator or the `join()` method.\n",
    "\n",
    "### Using the `+` Operator\n",
    "\n",
    "The `+` operator can be used to concatenate two or more strings.\n",
    "\n",
    "\n",
    "\n",
    "### Using the `join()` Method\n",
    "\n",
    "The `join()` method is used to concatenate a list of strings into a single string.\n",
    "\n",
    "\n",
    "\n",
    "## String Formatting\n",
    "\n",
    "String formatting allows you to create strings with dynamic content. Python provides several ways to format strings, including the `%` operator, the `str.format()` method, and f-strings (formatted string literals).\n",
    "\n",
    "### Using the `%` Operator\n",
    "\n",
    "The `%` operator is used to format strings by embedding values within a string.\n",
    "\n",
    "\n",
    "\n",
    "### Using the `str.format()` Method\n",
    "\n",
    "The `str.format()` method allows you to format strings by placing placeholders within the string and providing values to replace them.\n",
    "\n",
    "\n",
    "\n",
    "### Using F-Strings (Formatted String Literals)\n",
    "\n",
    "F-strings, introduced in Python 3.6, provide a concise and readable way to format strings by embedding expressions within curly braces `{}`.\n",
    "\n",
    "x\n",
    "\n",
    "String concatenation and formatting are essential techniques for creating dynamic and readable strings in Python. By understanding and utilizing these methods, you can efficiently manipulate and display text in your programs."
   ]
  },
  {
   "cell_type": "code",
   "execution_count": 4,
   "id": "deb8b493",
   "metadata": {},
   "outputs": [
    {
     "name": "stdout",
     "output_type": "stream",
     "text": [
      "Hello World\n",
      "Hello World\n",
      "My name is Alice and I am 30 years old.\n",
      "My name is Alice and I am 30 years old.\n",
      "My name is Alice and I am 30 years old.\n"
     ]
    }
   ],
   "source": [
    "# The + operator\n",
    "str1 = \"Hello\"\n",
    "str2 = \"World\"\n",
    "result = str1 + \" \" + str2\n",
    "print(result)  # Output: Hello World\n",
    "\n",
    "# The join Function\n",
    "words = [\"Hello\", \"World\"]\n",
    "result = \" \".join(words)\n",
    "print(result)  # Output: Hello World\n",
    "\n",
    "# % Operator\n",
    "name = \"Alice\"\n",
    "age = 30\n",
    "result = \"My name is %s and I am %d years old.\" % (name, age)\n",
    "print(result)  # Output: My name is Alice and I am 30 years old.\n",
    "\n",
    "# format Method\n",
    "name = \"Alice\"\n",
    "age = 30\n",
    "result = \"My name is {} and I am {} years old.\".format(name, age)\n",
    "print(result)  # Output: My name is Alice and I am 30 years old.\n",
    "\n",
    "# f-Strings\n",
    "name = \"Alice\"\n",
    "age = 30\n",
    "result = f\"My name is {name} and I am {age} years old.\"\n",
    "print(result)  # Output: My name is Alice and I am 30 years old.\n"
   ]
  },
  {
   "cell_type": "markdown",
   "id": "d41ac5e3",
   "metadata": {},
   "source": [
    "# Practice\n",
    "this also from the python 0 pptx\n",
    "\n",
    "## Question\n",
    "    1.Write a python program to get character names and ages from the user and put in a story of 3 lines."
   ]
  },
  {
   "cell_type": "code",
   "execution_count": 5,
   "id": "73de60e6",
   "metadata": {},
   "outputs": [
    {
     "name": "stdout",
     "output_type": "stream",
     "text": [
      "Once upon a time, there was a person named Orca.\n",
      "Orca was 21 years old.\n",
      "He went on an adventure and had a lot of fun.\n"
     ]
    }
   ],
   "source": [
    "# Get character name and age from the user\n",
    "character_name = input(\"Enter the name of the character: \")\n",
    "character_age = input(\"Enter the age of the character: \")\n",
    "\n",
    "# Create a story using the input\n",
    "story = f\"Once upon a time, there was a person named {character_name}.\\n\"\n",
    "story += f\"{character_name} was {character_age} years old.\\n\"\n",
    "story += f\"He went on an adventure and had a lot of fun.\"\n",
    "\n",
    "# Print the story\n",
    "print(story)\n"
   ]
  }
 ],
 "metadata": {
  "kernelspec": {
   "display_name": "Python 3",
   "language": "python",
   "name": "python3"
  },
  "language_info": {
   "codemirror_mode": {
    "name": "ipython",
    "version": 3
   },
   "file_extension": ".py",
   "mimetype": "text/x-python",
   "name": "python",
   "nbconvert_exporter": "python",
   "pygments_lexer": "ipython3",
   "version": "3.10.2"
  }
 },
 "nbformat": 4,
 "nbformat_minor": 5
}
