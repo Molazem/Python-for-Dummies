{
 "cells": [
  {
   "cell_type": "markdown",
   "id": "99907d43",
   "metadata": {},
   "source": [
    "# Working with Dates and Times in Python\n",
    "\n",
    "Python provides powerful libraries for working with dates and times. The `datetime` module supplies classes for manipulating dates and times. Here, we will discuss `datetime`, `timedelta`, and `strftime`.\n",
    "\n",
    "## `datetime` Module\n",
    "\n",
    "The `datetime` module provides classes for manipulating dates and times. The main classes are `date`, `time`, `datetime`, and `timedelta`.\n",
    "\n",
    "## `timedelta` Classta` Class\n",
    "\n",
    "The `timedelta` class represents the difference between two dates or times. It is useful for performing arithmetic operations on dates and times.delta` class represents the difference between two dates or times. It is useful for performing arithmetic operations on dates and times.\n",
    "\n",
    "## `strftime` Method## `strftime` Method\n",
    "\n",
    "The `strftime` method is used to format date and time objects into readable strings. It allows you to specify the format using format codes.d is used to format date and time objects into readable strings. It allows you to specify the format using format codes.\n",
    "\n",
    "### Common Format Codes### Common Format Codes\n",
    "\n",
    "- `%Y`: Year with century (e.g., 2023)\n",
    "- `%m`: Month as a zero-padded decimal number (e.g., 01, 02, ..., 12)e.g., 01, 02, ..., 12)\n",
    "- `%d`: Day of the month as a zero-padded decimal number (e.g., 01, 02, ..., 31)%d`: Day of the month as a zero-padded decimal number (e.g., 01, 02, ..., 31)\n",
    "- `%H`: Hour (24-hour clock) as a zero-padded decimal number (e.g., 00, 01, ..., 23)- `%H`: Hour (24-hour clock) as a zero-padded decimal number (e.g., 00, 01, ..., 23)\n",
    "- `%M`: Minute as a zero-padded decimal number (e.g., 00, 01, ..., 59)zero-padded decimal number (e.g., 00, 01, ..., 59)\n",
    "- `%S`: Second as a zero-padded decimal number (e.g., 00, 01, ..., 59)- `%S`: Second as a zero-padded decimal number (e.g., 00, 01, ..., 59)\n",
    "\n",
    "By understanding and utilizing the `datetime` module, `timedelta` class, and `strftime` method, you can efficiently work with dates and times in Python.By understanding and utilizing the `datetime` module, `timedelta` class, and `strftime` method, you can efficiently work with dates and times in Python.\n"
   ]
  },
  {
   "cell_type": "code",
   "execution_count": 1,
   "id": "b6c62654",
   "metadata": {},
   "outputs": [
    {
     "name": "stdout",
     "output_type": "stream",
     "text": [
      "Current date and time: 2025-04-29 04:32:05.487006\n",
      "Specific date and time: 2023-10-01 12:30:45\n",
      "Tomorrow: 2025-04-30 04:32:05.487006\n",
      "Next week: 2025-05-06 04:32:05.487006\n",
      "One hour later: 2025-04-29 05:32:05.487006\n",
      "Yesterday: 2025-04-28 04:32:05.487006\n",
      "Last week: 2025-04-22 04:32:05.487006\n",
      "One hour earlier: 2025-04-29 03:32:05.487006\n",
      "Formatted date and time: 2025-04-29 04:32:05\n",
      "Year: 2025\n",
      "Month: 04\n",
      "Day: 29\n",
      "Hour: 04\n",
      "Minute: 32\n",
      "Second: 05\n",
      "Parsed date and time: 2023-10-01 12:30:45\n"
     ]
    }
   ],
   "source": [
    "from datetime import datetime, timedelta\n",
    "\n",
    "# Current date and time\n",
    "now = datetime.now()\n",
    "print(\"Current date and time:\", now)\n",
    "\n",
    "# Create a specific date and time\n",
    "specific_date = datetime(2023, 10, 1, 12, 30, 45)\n",
    "print(\"Specific date and time:\", specific_date)\n",
    "\n",
    "# Date and time arithmetic using timedelta\n",
    "one_day = timedelta(days=1)\n",
    "one_week = timedelta(weeks=1)\n",
    "one_hour = timedelta(hours=1)\n",
    "\n",
    "# Adding timedelta to datetime\n",
    "tomorrow = now + one_day\n",
    "next_week = now + one_week\n",
    "one_hour_later = now + one_hour\n",
    "\n",
    "print(\"Tomorrow:\", tomorrow)\n",
    "print(\"Next week:\", next_week)\n",
    "print(\"One hour later:\", one_hour_later)\n",
    "\n",
    "# Subtracting timedelta from datetime\n",
    "yesterday = now - one_day\n",
    "last_week = now - one_week\n",
    "one_hour_earlier = now - one_hour\n",
    "\n",
    "print(\"Yesterday:\", yesterday)\n",
    "print(\"Last week:\", last_week)\n",
    "print(\"One hour earlier:\", one_hour_earlier)\n",
    "\n",
    "# Formatting datetime using strftime\n",
    "formatted_date = now.strftime(\"%Y-%m-%d %H:%M:%S\")\n",
    "print(\"Formatted date and time:\", formatted_date)\n",
    "\n",
    "# Common format codes\n",
    "print(\"Year:\", now.strftime(\"%Y\"))\n",
    "print(\"Month:\", now.strftime(\"%m\"))\n",
    "print(\"Day:\", now.strftime(\"%d\"))\n",
    "print(\"Hour:\", now.strftime(\"%H\"))\n",
    "print(\"Minute:\", now.strftime(\"%M\"))\n",
    "print(\"Second:\", now.strftime(\"%S\"))\n",
    "\n",
    "# Parsing a string to datetime using strptime\n",
    "date_string = \"2023-10-01 12:30:45\"\n",
    "parsed_date = datetime.strptime(date_string, \"%Y-%m-%d %H:%M:%S\")\n",
    "print(\"Parsed date and time:\", parsed_date)"
   ]
  },
  {
   "cell_type": "markdown",
   "id": "ffa710fe",
   "metadata": {},
   "source": [
    "# Practice \n",
    "this also from Python 0 pptx \n",
    "## Questions \n",
    "    Write me a python code to get the name of the day 5 days from today display the date, time and the name of the day."
   ]
  },
  {
   "cell_type": "code",
   "execution_count": 3,
   "id": "2ef29117",
   "metadata": {},
   "outputs": [
    {
     "name": "stdout",
     "output_type": "stream",
     "text": [
      "Date and Time: 2025-05-04 04:32:10\n",
      "Day: Sunday\n"
     ]
    }
   ],
   "source": [
    "# Calculate the date 5 days from today\n",
    "five_days_from_today = now + timedelta(days=5)\n",
    "\n",
    "# Format the date and get the name of the day\n",
    "formatted_date = five_days_from_today.strftime(\"%Y-%m-%d %H:%M:%S\")\n",
    "day_name = five_days_from_today.strftime(\"%A\")\n",
    "\n",
    "# Display the date, time, and name of the day\n",
    "print(f\"Date and Time: {formatted_date}\")\n",
    "print(f\"Day: {day_name}\")"
   ]
  }
 ],
 "metadata": {
  "kernelspec": {
   "display_name": "Python 3",
   "language": "python",
   "name": "python3"
  },
  "language_info": {
   "codemirror_mode": {
    "name": "ipython",
    "version": 3
   },
   "file_extension": ".py",
   "mimetype": "text/x-python",
   "name": "python",
   "nbconvert_exporter": "python",
   "pygments_lexer": "ipython3",
   "version": "3.10.2"
  }
 },
 "nbformat": 4,
 "nbformat_minor": 5
}
